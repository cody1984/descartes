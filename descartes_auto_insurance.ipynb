{
 "cells": [
  {
   "cell_type": "code",
   "execution_count": 1,
   "metadata": {},
   "outputs": [],
   "source": [
    "# import required libraries\n",
    "import pandas as pd\n",
    "import numpy as np\n",
    "import matplotlib.pyplot as plt\n",
    "\n",
    "from sklearn import preprocessing, metrics\n",
    "from sklearn.model_selection import train_test_split, GridSearchCV\n",
    "\n",
    "from xgboost import XGBClassifier\n",
    "import xgboost as xgb\n",
    "\n",
    "pd.set_option('display.max_columns', None)"
   ]
  },
  {
   "cell_type": "markdown",
   "metadata": {},
   "source": [
    "### user defined functions"
   ]
  },
  {
   "cell_type": "code",
   "execution_count": 2,
   "metadata": {},
   "outputs": [],
   "source": [
    "# define functions to be used throughout\n",
    "\n",
    "def clean_data(df, clean_var_list):\n",
    "    \n",
    "    # remove odd characters from observations\n",
    "    for i in df.select_dtypes(include=object).columns:\n",
    "        df[i] = df[i].str.replace('z_', '')\n",
    "      \n",
    "    # remove $ sign from amount columns and convert to float \n",
    "    for var in clean_var_list:\n",
    "        df.loc[df[var].isna(), var] = 0\n",
    "        df[var] = pd.to_numeric(df[var].str.replace(r'[^\\d\\.]', ''), errors='coerce')\n",
    "    \n",
    "    return df\n",
    "        \n",
    "\n",
    "def preprocess_bin_data(df, binary_var_list):\n",
    "    \n",
    "    # convert binary character variables to [0, 1]  \n",
    "    for i in binary_var_list:\n",
    "        df[i] = pd.Categorical(df[i], ordered=None)\n",
    "        df[i] = df[i].cat.codes\n",
    "        \n",
    "    return df\n",
    "        \n",
    "        \n",
    "def preprocess_cat_data(df, categorical_var_list):\n",
    "    \n",
    "    # one-hot encode categorical variables so can be used within model\n",
    "    for i in categorical_var_list:\n",
    "        df.loc[df[i].isna(), i] = 'UNKOWN'\n",
    "        df = df.merge(pd.get_dummies(df[i]), how='left', left_index=True,  right_index=True)\n",
    "        \n",
    "    return df.drop(columns=cat_vars)\n",
    "\n",
    "\n",
    "def preprocess_con_data(df, continuous_var_list):\n",
    "    \n",
    "    # replace null values within continuous columns with median value of variable    \n",
    "    for i in continuous_var_list:\n",
    "        df.loc[df[i].isna(), i] = df[i].median()\n",
    "    \n",
    "    # standardize continous variables so all reduced to suitable range \n",
    "    for i in continuous_var_list:\n",
    "        df[i] = df.loc[:, [i]].apply(lambda x: (x - x.mean()) / (max(x) - min(x)))\n",
    "\n",
    "    return df"
   ]
  },
  {
   "cell_type": "markdown",
   "metadata": {},
   "source": [
    "### read in data"
   ]
  },
  {
   "cell_type": "code",
   "execution_count": 3,
   "metadata": {},
   "outputs": [
    {
     "name": "stdout",
     "output_type": "stream",
     "text": [
      "(8161, 26)\n",
      "(2141, 26)\n",
      "(10302, 26)\n"
     ]
    }
   ],
   "source": [
    "# read in test and training dataframes, append and check shape remains consistent\n",
    "train_df = pd.read_csv('train_auto.csv')\n",
    "test_df = pd.read_csv('test_auto.csv')\n",
    "\n",
    "auto_df = pd.concat([train_df, test_df])\n",
    "\n",
    "auto_df.sort_values(by='INDEX', inplace=True)\n",
    "auto_df.reset_index(inplace=True, drop=True)\n",
    "\n",
    "print(train_df.shape, test_df.shape, auto_df.shape, sep='\\n')"
   ]
  },
  {
   "cell_type": "code",
   "execution_count": 4,
   "metadata": {},
   "outputs": [],
   "source": [
    "# auto_df.sample(3)"
   ]
  },
  {
   "cell_type": "code",
   "execution_count": 5,
   "metadata": {},
   "outputs": [],
   "source": [
    "# auto_df.describe()"
   ]
  },
  {
   "cell_type": "markdown",
   "metadata": {},
   "source": [
    "### data preprocessing"
   ]
  },
  {
   "cell_type": "code",
   "execution_count": 6,
   "metadata": {},
   "outputs": [],
   "source": [
    "# create additional flag variable to indicate if old claim exists\n",
    "auto_df.loc[auto_df['OLDCLAIM'] != 0, 'OLDCLAIM_FLAG'] = 1\n",
    "auto_df.loc[auto_df['OLDCLAIM_FLAG'].isna(), 'OLDCLAIM_FLAG'] = 0\n",
    "\n",
    "# replace negative vehicle age with zero\n",
    "auto_df.loc[auto_df['CAR_AGE'] < 0, 'CAR_AGE'] = 0 "
   ]
  },
  {
   "cell_type": "code",
   "execution_count": 7,
   "metadata": {},
   "outputs": [],
   "source": [
    "# define lists of variables to be passed through functions\n",
    "clean_vars = ['INCOME','HOME_VAL', 'BLUEBOOK', 'OLDCLAIM']\n",
    "binary_vars = ['PARENT1', 'MSTATUS', 'SEX', 'CAR_USE', 'RED_CAR', 'URBANICITY', 'REVOKED']\n",
    "cat_vars = ['EDUCATION', 'JOB', 'CAR_TYPE']\n",
    "cont_vars = ['AGE', 'INCOME', 'HOME_VAL', 'BLUEBOOK', 'TRAVTIME',  'OLDCLAIM', 'YOJ', 'CAR_AGE','TIF', 'MVR_PTS']"
   ]
  },
  {
   "cell_type": "code",
   "execution_count": 8,
   "metadata": {},
   "outputs": [],
   "source": [
    "# perform preprocess on observations as defined by user functions\n",
    "auto_df = clean_data(auto_df, clean_vars)\n",
    "auto_df = preprocess_bin_data(auto_df, binary_vars)\n",
    "auto_df = preprocess_cat_data(auto_df, cat_vars)\n",
    "auto_df = preprocess_con_data(auto_df, cont_vars)\n",
    "\n",
    "# rename columns headings to allow passing into model\n",
    "auto_df.columns = auto_df.columns.str.replace('<', 'lt_').str.replace(' ', '_')"
   ]
  },
  {
   "cell_type": "code",
   "execution_count": 9,
   "metadata": {},
   "outputs": [],
   "source": [
    "# auto_df.head()"
   ]
  },
  {
   "cell_type": "code",
   "execution_count": 10,
   "metadata": {},
   "outputs": [],
   "source": [
    "# auto_df[cont_vars].describe()"
   ]
  },
  {
   "cell_type": "code",
   "execution_count": 11,
   "metadata": {},
   "outputs": [],
   "source": [
    "# for i in cont_vars:\n",
    "#     print(i)\n",
    "#     plt.hist(auto_df.loc[auto_df[i].notna(), i])\n",
    "#     plt.show();"
   ]
  },
  {
   "cell_type": "markdown",
   "metadata": {},
   "source": [
    "### modelling and prediction of data"
   ]
  },
  {
   "cell_type": "code",
   "execution_count": 12,
   "metadata": {},
   "outputs": [],
   "source": [
    "# merge pre-processed data back to df to split back into original train/test dataframes\n",
    "X = train_df[['INDEX']].merge(auto_df, how='inner', on='INDEX').drop(columns=['TARGET_AMT', 'INDEX', 'TARGET_FLAG'])\n",
    "y = train_df[['INDEX']].merge(auto_df, how='inner', on='INDEX')[['TARGET_FLAG']].astype(int)\n",
    "\n",
    "# split training dataset into train/test and seperate into predictor and predicted to allow for modelling\n",
    "X_train, X_test, y_train, y_test = train_test_split(X, y, test_size=0.3, random_state=42)"
   ]
  },
  {
   "cell_type": "code",
   "execution_count": 13,
   "metadata": {},
   "outputs": [
    {
     "data": {
      "text/plain": [
       "TARGET_FLAG\n",
       "0    6008\n",
       "1    2153\n",
       "Name: TARGET_FLAG, dtype: int64"
      ]
     },
     "execution_count": 13,
     "metadata": {},
     "output_type": "execute_result"
    }
   ],
   "source": [
    "y.groupby(['TARGET_FLAG'])['TARGET_FLAG'].count()  # unbalanced"
   ]
  },
  {
   "cell_type": "code",
   "execution_count": 14,
   "metadata": {},
   "outputs": [],
   "source": [
    "# define model and create dictionay of parameters for grid search to tune \n",
    "model = xgb.XGBClassifier(use_label_encoder=True)\n",
    "\n",
    "parameters = {\n",
    "             \"eta\"              : [0.01, 0.05, 0.10] ,\n",
    "             \"max_depth\"        : [5, 10, 15, 25, 50],\n",
    "             \"min_child_weight\" : [3, 5, 7],\n",
    "             \"gamma\"            : [0.0, 0.1, 0.4 ],\n",
    "             \"colsample_bytree\" : [0.3, 0.5 , 0.7, 0.9],\n",
    "             \"learning_rate\"    : [0.01, 0.05, 0.05]\n",
    "             }\n",
    "\n",
    "grid_search = GridSearchCV( model,\n",
    "                            parameters, \n",
    "                            n_jobs=-1,\n",
    "                            scoring=\"neg_log_loss\",\n",
    "                            cv=3)"
   ]
  },
  {
   "cell_type": "markdown",
   "metadata": {},
   "source": [
    "#### no need to run cell - paramaters hard coded below"
   ]
  },
  {
   "cell_type": "code",
   "execution_count": 15,
   "metadata": {},
   "outputs": [
    {
     "name": "stderr",
     "output_type": "stream",
     "text": [
      "C:\\Users\\Cody\\.julia\\conda\\3\\lib\\site-packages\\xgboost\\sklearn.py:888: UserWarning: The use of label encoder in XGBClassifier is deprecated and will be removed in a future release. To remove this warning, do the following: 1) Pass option use_label_encoder=False when constructing XGBClassifier object; and 2) Encode your labels (y) as integers starting with 0, i.e. 0, 1, 2, ..., [num_class - 1].\n",
      "  warnings.warn(label_encoder_deprecation_msg, UserWarning)\n"
     ]
    },
    {
     "name": "stdout",
     "output_type": "stream",
     "text": [
      "[11:23:15] WARNING: ..\\src\\learner.cc:1061: Starting in XGBoost 1.3.0, the default evaluation metric used with the objective 'binary:logistic' was changed from 'error' to 'logloss'. Explicitly set eval_metric if you'd like to restore the old behavior.\n",
      "[11:23:15] WARNING: ..\\src\\learner.cc:1061: Starting in XGBoost 1.3.0, the default evaluation metric used with the objective 'binary:logistic' was changed from 'error' to 'logloss'. Explicitly set eval_metric if you'd like to restore the old behavior.\n"
     ]
    }
   ],
   "source": [
    "# iterate through combination of above parameters and find best model estimator \n",
    "grid_search.fit(X_train, y_train['TARGET_FLAG'].ravel())\n",
    "grid_search.best_estimator_\n",
    "\n",
    "# assign best parameters to model and fit model on training data\n",
    "model = grid_search.best_estimator_\n",
    "model.fit(X_train, y_train['TARGET_FLAG'].ravel());"
   ]
  },
  {
   "cell_type": "code",
   "execution_count": 20,
   "metadata": {},
   "outputs": [
    {
     "data": {
      "text/plain": [
       "XGBClassifier(base_score=0.5, booster='gbtree', colsample_bylevel=1,\n",
       "              colsample_bynode=1, colsample_bytree=0.7, eta=0.01, gamma=0.0,\n",
       "              gpu_id=-1, importance_type='gain', interaction_constraints='',\n",
       "              learning_rate=0.05, max_delta_step=0, max_depth=5,\n",
       "              min_child_weight=7, missing=nan, monotone_constraints='()',\n",
       "              n_estimators=100, n_jobs=12, num_parallel_tree=1, random_state=0,\n",
       "              reg_alpha=0, reg_lambda=1, scale_pos_weight=1, subsample=1,\n",
       "              tree_method='exact', validate_parameters=1, verbosity=None)"
      ]
     },
     "execution_count": 20,
     "metadata": {},
     "output_type": "execute_result"
    }
   ],
   "source": [
    "model"
   ]
  },
  {
   "cell_type": "code",
   "execution_count": 16,
   "metadata": {},
   "outputs": [],
   "source": [
    "# assign best parameters to model and fit model on training data\n",
    "model = XGBClassifier(base_score=0.5, booster='gbtree', colsample_bylevel=1,\n",
    "                      colsample_bynode=1, colsample_bytree=0.7, eta=0.01, gamma=0.0,\n",
    "                      gpu_id=-1, importance_type='gain', interaction_constraints='',\n",
    "                      learning_rate=0.05, max_delta_step=0, max_depth=5,\n",
    "                      min_child_weight=7, missing=False, monotone_constraints='()',\n",
    "                      n_estimators=100, n_jobs=12, num_parallel_tree=1, random_state=0,\n",
    "                      reg_alpha=0, reg_lambda=1, scale_pos_weight=1, subsample=1,\n",
    "                      tree_method='exact', validate_parameters=1, verbosity=Nonee)\n",
    "\n",
    "model.fit(X_train, y_train['TARGET_FLAG'].ravel())"
   ]
  },
  {
   "cell_type": "code",
   "execution_count": 19,
   "metadata": {},
   "outputs": [
    {
     "data": {
      "image/png": "[encoded data removed]",
      "text/plain": [
       "<Figure size 432x288 with 1 Axes>"
      ]
     },
     "metadata": {
      "needs_background": "light"
     },
     "output_type": "display_data"
    }
   ],
   "source": [
    "# plot roc curve to visualize performance of model on test data\n",
    "metrics.plot_roc_curve(model, X_test, y_test);"
   ]
  },
  {
   "cell_type": "code",
   "execution_count": 21,
   "metadata": {},
   "outputs": [
    {
     "data": {
      "text/plain": [
       "array([[1700,  101],\n",
       "       [ 384,  264]], dtype=int64)"
      ]
     },
     "execution_count": 21,
     "metadata": {},
     "output_type": "execute_result"
    }
   ],
   "source": [
    "# print confusion matrix of results\n",
    "y_pred = model.predict(X_test)\n",
    "metrics.confusion_matrix(y_test, y_pred)"
   ]
  },
  {
   "cell_type": "markdown",
   "metadata": {},
   "source": [
    "### predict on provided test dataset with unknown outcome variable "
   ]
  },
  {
   "cell_type": "code",
   "execution_count": 22,
   "metadata": {},
   "outputs": [],
   "source": [
    "# merge pre-processed data back to df to split back into original train/test dataframes\n",
    "X = test_df[['INDEX']].merge(auto_df, how='inner', on='INDEX').drop(columns=['TARGET_AMT', 'INDEX', 'TARGET_FLAG'])\n",
    "\n",
    "y_pred = model.predict(X)"
   ]
  },
  {
   "cell_type": "code",
   "execution_count": 23,
   "metadata": {},
   "outputs": [],
   "source": [
    "# assign predicted outcome back to original index\n",
    "y_pred_df = pd.DataFrame(pd.Series(y_pred)).rename(columns={0: 'pred_outcome'})\n",
    "y_pred_df = test_df[['INDEX']].merge(y_pred_df, how='inner', left_index=True,  right_index=True)"
   ]
  },
  {
   "cell_type": "code",
   "execution_count": null,
   "metadata": {},
   "outputs": [],
   "source": []
  }
 ],
 "metadata": {
  "kernelspec": {
   "display_name": "Python 3",
   "language": "python",
   "name": "python3"
  },
  "language_info": {
   "codemirror_mode": {
    "name": "ipython",
    "version": 3
   },
   "file_extension": ".py",
   "mimetype": "text/x-python",
   "name": "python",
   "nbconvert_exporter": "python",
   "pygments_lexer": "ipython3",
   "version": "3.6.5"
  }
 },
 "nbformat": 4,
 "nbformat_minor": 4
}
